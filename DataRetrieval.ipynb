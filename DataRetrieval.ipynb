{
 "cells": [
  {
   "cell_type": "code",
   "execution_count": 5,
   "metadata": {},
   "outputs": [],
   "source": [
    "import requests\n",
    "import json\n",
    "import pandas as pd\n",
    "import time\n",
    "from os.path import exists\n",
    "import numpy as np\n",
    "\n",
    "# >>> template = \"http://whatever.org/?title={Title}&note={Note}\"\n",
    "# >>> template.format(Title=\"SampleTitle\", Note=\"SampleNote\")\n",
    "# 'http://whatever.org/?title=SampleTitle&note=SampleNote'\n",
    "publicMatches = 'https://api.opendota.com/api/publicMatches'\n",
    "Match = \"https://api.opendota.com/api/matches/{match_id}\" # 4108104790\n",
    "Account = \"https://api.opendota.com/api/players/{account_id}\" # https://api.opendota.com/api/players/{account_id}\n",
    "\n",
    "matchDataFile = \"./MatchData.json\"\n",
    "matchDetailsFile = \"./MatchDetails.json\"\n",
    "playerDetailsFile = \"./PlayerDetails.json\""
   ]
  },
  {
   "cell_type": "code",
   "execution_count": 6,
   "metadata": {},
   "outputs": [],
   "source": [
    "def writeObjectToJson(data, path):\n",
    "    json_str = json.dumps(data, indent=4)\n",
    "    f = open(path, \"w\")\n",
    "    f.write(json_str)\n",
    "    f.close()"
   ]
  },
  {
   "cell_type": "code",
   "execution_count": 7,
   "metadata": {
    "scrolled": true
   },
   "outputs": [
    {
     "name": "stdout",
     "output_type": "stream",
     "text": [
      "2\n"
     ]
    }
   ],
   "source": [
    "matchData = []\n",
    "if exists(matchDataFile):\n",
    "    f = open(matchDataFile, \"r\")\n",
    "    matchDataString = f.read()\n",
    "    matchData = json.loads(matchDataString)\n",
    "    f.close()\n",
    "else:\n",
    "    for i in range(100):\n",
    "        print(i)\n",
    "        time.sleep(1)\n",
    "        r = requests.get(publicMatches)\n",
    "        data = json.loads(r.text)\n",
    "        for match in data:\n",
    "            matchData.append(match)\n",
    "    print(len(matchData))\n",
    "    writeObjectToJson(matchData, matchDataFile)\n",
    "print(len(matchData))"
   ]
  },
  {
   "cell_type": "code",
   "execution_count": 8,
   "metadata": {
    "scrolled": true
   },
   "outputs": [
    {
     "name": "stdout",
     "output_type": "stream",
     "text": [
      "0\n",
      "1\n",
      "2\n"
     ]
    }
   ],
   "source": [
    "# >>> template = \"http://whatever.org/?title={Title}&note={Note}\"\n",
    "# >>> template.format(Title=\"SampleTitle\", Note=\"SampleNote\")\n",
    "# 'http://whatever.org/?title=SampleTitle&note=SampleNote'\n",
    "# Match = \"https://api.opendota.com/api/matches/{match_id}\" # 4108104790\n",
    "matchDetails = []\n",
    "i = 0\n",
    "if exists(matchDetailsFile):\n",
    "    f = open(matchDetailsFile, \"r\")\n",
    "    dataString = f.read()\n",
    "    matchDetails = json.loads(dataString)\n",
    "    f.close()\n",
    "if len(matchDetails) < len(matchData):\n",
    "    i = len(matchDetails)\n",
    "    while i < len(matchData):\n",
    "        try:\n",
    "            match = matchData[i]\n",
    "            MatchId = match[\"match_id\"]\n",
    "            print(i)\n",
    "            i += 1\n",
    "            r = requests.get(Match.format(match_id=str(MatchId)))\n",
    "            details = json.loads(r.text)\n",
    "            matchDetails.append(details)\n",
    "            time.sleep(1)\n",
    "        except:\n",
    "            print(\"Error on \" + str(i))\n",
    "            writeObjectToJson(matchDetails, matchDetailsFile)\n",
    "    writeObjectToJson(matchDetails, matchDetailsFile)\n",
    "print(len(matchDetails))"
   ]
  },
  {
   "cell_type": "code",
   "execution_count": 9,
   "metadata": {},
   "outputs": [
    {
     "name": "stdout",
     "output_type": "stream",
     "text": [
      "2\n"
     ]
    }
   ],
   "source": [
    "print(len(matchDetails))"
   ]
  },
  {
   "cell_type": "code",
   "execution_count": 14,
   "metadata": {},
   "outputs": [
    {
     "name": "stdout",
     "output_type": "stream",
     "text": [
      "16\n"
     ]
    }
   ],
   "source": [
    "# >>> template = \"http://whatever.org/?title={Title}&note={Note}\"\n",
    "# >>> template.format(Title=\"SampleTitle\", Note=\"SampleNote\")\n",
    "# 'http://whatever.org/?title=SampleTitle&note=SampleNote'\n",
    "# Match = \"https://api.opendota.com/api/matches/{match_id}\" # 4108104790\n",
    "playerDetails = []\n",
    "i = 0\n",
    "if exists(playerDetailsFile):\n",
    "    f = open(playerDetailsFile, \"r\")\n",
    "    dataString = f.read()\n",
    "    playerDetails = json.loads(dataString)\n",
    "    f.close()\n",
    "else:\n",
    "    for match in matchDetails:\n",
    "        for player in match[\"players\"]:\n",
    "            playerId = \"\"\n",
    "            try:\n",
    "                playerId = player[\"account_id\"]\n",
    "                if playerId is None:\n",
    "                    continue\n",
    "                r = requests.get(Account.format(account_id=str(playerId)))\n",
    "                details = json.loads(r.text)\n",
    "                playerDetails.append(details)\n",
    "                print(i)\n",
    "                i += 1\n",
    "                time.sleep(1)\n",
    "            except:\n",
    "                print(\"error on player id\", playerId)\n",
    "    writeObjectToJson(playerDetails, playerDetailsFile)\n",
    "print(len(playerDetails))"
   ]
  },
  {
   "cell_type": "code",
   "execution_count": 15,
   "metadata": {},
   "outputs": [
    {
     "name": "stdout",
     "output_type": "stream",
     "text": [
      "16\n"
     ]
    }
   ],
   "source": [
    "print(len(playerDetails))    \n",
    "writeObjectToJson(playerDetails, playerDetailsFile)"
   ]
  },
  {
   "cell_type": "code",
   "execution_count": 12,
   "metadata": {},
   "outputs": [
    {
     "ename": "IndexError",
     "evalue": "only integers, slices (`:`), ellipsis (`...`), numpy.newaxis (`None`) and integer or boolean arrays are valid indices",
     "output_type": "error",
     "traceback": [
      "\u001b[1;31m---------------------------------------------------------------------------\u001b[0m",
      "\u001b[1;31mIndexError\u001b[0m                                Traceback (most recent call last)",
      "Cell \u001b[1;32mIn [12], line 3\u001b[0m\n\u001b[0;32m      1\u001b[0m playerDetailsNP \u001b[38;5;241m=\u001b[39m np\u001b[38;5;241m.\u001b[39masarray(playerDetails)\n\u001b[0;32m      2\u001b[0m \u001b[38;5;66;03m# player = playerDetailsNP[[\"account_id\"] == 431718342]\u001b[39;00m\n\u001b[1;32m----> 3\u001b[0m \u001b[38;5;28mprint\u001b[39m(\u001b[43mplayerDetailsNP\u001b[49m\u001b[43m[\u001b[49m\u001b[43m:\u001b[49m\u001b[43m]\u001b[49m\u001b[43m[\u001b[49m\u001b[38;5;124;43m\"\u001b[39;49m\u001b[38;5;124;43mprofile\u001b[39;49m\u001b[38;5;124;43m\"\u001b[39;49m\u001b[43m]\u001b[49m)\n",
      "\u001b[1;31mIndexError\u001b[0m: only integers, slices (`:`), ellipsis (`...`), numpy.newaxis (`None`) and integer or boolean arrays are valid indices"
     ]
    }
   ],
   "source": [
    "playerDetailsNP = np.asarray(playerDetails)\n",
    "# player = playerDetailsNP[[\"account_id\"] == 431718342]\n",
    "print(playerDetailsNP[:][\"profile\"])"
   ]
  },
  {
   "cell_type": "code",
   "execution_count": null,
   "metadata": {},
   "outputs": [],
   "source": [
    "def findPlayer(playerData, playerId):\n",
    "    "
   ]
  },
  {
   "cell_type": "code",
   "execution_count": 17,
   "metadata": {},
   "outputs": [
    {
     "name": "stdout",
     "output_type": "stream",
     "text": [
      "3703439588\n",
      "{'match_id': 3703439588, 'player_slot': 0, 'ability_targets': None, 'ability_upgrades_arr': None, 'ability_uses': None, 'account_id': 315917840, 'actions': None, 'additional_units': None, 'assists': 7, 'backpack_0': 41, 'backpack_1': 0, 'backpack_2': 0, 'backpack_3': None, 'buyback_log': None, 'camps_stacked': None, 'connection_log': None, 'creeps_stacked': None, 'damage': None, 'damage_inflictor': None, 'damage_inflictor_received': None, 'damage_taken': None, 'damage_targets': None, 'deaths': 1, 'denies': 11, 'dn_t': None, 'firstblood_claimed': None, 'gold': None, 'gold_per_min': 665, 'gold_reasons': None, 'gold_spent': None, 'gold_t': None, 'hero_damage': None, 'hero_healing': None, 'hero_hits': None, 'hero_id': 11, 'item_0': 100, 'item_1': 129, 'item_2': 176, 'item_3': 212, 'item_4': 1, 'item_5': 48, 'item_neutral': 0, 'item_uses': None, 'kill_streaks': None, 'killed': None, 'killed_by': None, 'kills': 8, 'kills_log': None, 'lane_pos': None, 'last_hits': 236, 'leaver_status': 0, 'level': 23, 'lh_t': None, 'life_state': None, 'max_hero_hit': None, 'multi_kills': None, 'net_worth': 18967, 'obs': None, 'obs_left_log': None, 'obs_log': None, 'obs_placed': None, 'party_id': None, 'party_size': None, 'performance_others': None, 'permanent_buffs': None, 'pings': None, 'pred_vict': None, 'purchase': None, 'purchase_log': None, 'randomed': None, 'repicked': None, 'roshans_killed': None, 'rune_pickups': None, 'runes': None, 'runes_log': None, 'sen': None, 'sen_left_log': None, 'sen_log': None, 'sen_placed': None, 'stuns': None, 'teamfight_participation': None, 'times': None, 'tower_damage': None, 'towers_killed': None, 'xp_per_min': 768, 'xp_reasons': None, 'xp_t': None, 'personaname': 'Mr. Cat', 'name': None, 'last_login': None, 'radiant_win': True, 'start_time': 1517101494, 'duration': 1734, 'cluster': 122, 'lobby_type': 7, 'game_mode': 22, 'is_contributor': False, 'patch': 26, 'region': 2, 'isRadiant': True, 'win': 1, 'lose': 0, 'total_gold': 19218, 'total_xp': 22195, 'kills_per_min': 0.2768166089965398, 'kda': 7, 'abandons': 0, 'rank_tier': 15, 'is_subscriber': False, 'cosmetics': [], 'benchmarks': {'gold_per_min': {'raw': 665, 'pct': 0.6379310344827587}, 'xp_per_min': {'raw': 768, 'pct': 0.5517241379310345}, 'kills_per_min': {'raw': 0.2768166089965398, 'pct': 0.5862068965517241}, 'last_hits_per_min': {'raw': 8.166089965397925, 'pct': 0.3793103448275862}, 'hero_damage_per_min': {'raw': 0, 'pct': 0}, 'hero_healing_per_min': {'raw': 0, 'pct': 0.9310344827586207}, 'tower_damage': {}, 'stuns_per_min': {'raw': 0, 'pct': 0.8620689655172413}, 'lhten': {}}}\n"
     ]
    },
    {
     "ename": "KeyError",
     "evalue": "'player_id'",
     "output_type": "error",
     "traceback": [
      "\u001b[1;31m---------------------------------------------------------------------------\u001b[0m",
      "\u001b[1;31mKeyError\u001b[0m                                  Traceback (most recent call last)",
      "Cell \u001b[1;32mIn [17], line 7\u001b[0m\n\u001b[0;32m      5\u001b[0m \u001b[38;5;28;01mfor\u001b[39;00m player \u001b[38;5;129;01min\u001b[39;00m match[\u001b[38;5;124m\"\u001b[39m\u001b[38;5;124mplayers\u001b[39m\u001b[38;5;124m\"\u001b[39m]:\n\u001b[0;32m      6\u001b[0m     \u001b[38;5;28mprint\u001b[39m(player)\n\u001b[1;32m----> 7\u001b[0m     \u001b[38;5;28;01mif\u001b[39;00m \u001b[43mplayer\u001b[49m\u001b[43m[\u001b[49m\u001b[38;5;124;43m\"\u001b[39;49m\u001b[38;5;124;43mplayer_id\u001b[39;49m\u001b[38;5;124;43m\"\u001b[39;49m\u001b[43m]\u001b[49m \u001b[38;5;129;01mis\u001b[39;00m \u001b[38;5;28;01mNone\u001b[39;00m:\n\u001b[0;32m      8\u001b[0m         \u001b[38;5;28;01mcontinue\u001b[39;00m\n\u001b[0;32m      9\u001b[0m     \u001b[38;5;66;03m# find the player in the account data\u001b[39;00m\n",
      "\u001b[1;31mKeyError\u001b[0m: 'player_id'"
     ]
    }
   ],
   "source": [
    "# merge player data into match data\n",
    "playerPerformances = []\n",
    "for match in matchDetails:\n",
    "    print(match[\"match_id\"])\n",
    "    for player in match[\"players\"]:\n",
    "        print(player)\n",
    "        if player[\"player_id\"] is None:\n",
    "            continue\n",
    "        # find the player in the account data\n",
    "        \n",
    "        print(player)\n",
    "    break"
   ]
  },
  {
   "cell_type": "code",
   "execution_count": null,
   "metadata": {},
   "outputs": [],
   "source": []
  }
 ],
 "metadata": {
  "kernelspec": {
   "display_name": "Python 3 (ipykernel)",
   "language": "python",
   "name": "python3"
  },
  "language_info": {
   "codemirror_mode": {
    "name": "ipython",
    "version": 3
   },
   "file_extension": ".py",
   "mimetype": "text/x-python",
   "name": "python",
   "nbconvert_exporter": "python",
   "pygments_lexer": "ipython3",
   "version": "3.11.0"
  }
 },
 "nbformat": 4,
 "nbformat_minor": 2
}
